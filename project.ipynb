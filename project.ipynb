{
  "cells": [
    {
      "cell_type": "markdown",
      "metadata": {
        "id": "_avVIGTpvioI"
      },
      "source": [
        "# DX 704 Week 3 Project\n",
        "\n",
        "This week's project will give you practice with optimizing choices for bandit algorithms.\n",
        "You will be given access to the bandit problem via a blackbox object, and you will investigate the bandit rewards to pick a suitable algorithm."
      ]
    },
    {
      "cell_type": "markdown",
      "metadata": {
        "id": "ftRkegOQowWA"
      },
      "source": [
        "The full project description, a template notebook and supporting code are available on GitHub: [Project 3 Materials](https://github.com/bu-cds-dx704/dx704-project-03).\n"
      ]
    },
    {
      "cell_type": "markdown",
      "metadata": {
        "id": "-tPHvNSEdR6h"
      },
      "source": [
        "## Example Code\n",
        "\n",
        "You may find it helpful to refer to these GitHub repositories of Jupyter notebooks for example code.\n",
        "\n",
        "* https://github.com/bu-cds-omds/dx601-examples\n",
        "* https://github.com/bu-cds-omds/dx602-examples\n",
        "* https://github.com/bu-cds-omds/dx603-examples\n",
        "* https://github.com/bu-cds-omds/dx704-examples\n",
        "\n",
        "Any calculations demonstrated in code examples or videos may be found in these notebooks, and you are allowed to copy this example code in your homework answers."
      ]
    },
    {
      "cell_type": "markdown",
      "metadata": {
        "id": "b6VKDAEY8JMI"
      },
      "source": [
        "## Part 1: Pick a Bandit Algorithm\n",
        "\n",
        "Experiment with the multi-armed bandit interface using seed 0 to learn about the distribution of rewards and decide what kind of bandit algorithm will be appropriate.\n",
        "A histogram will likely be helpful."
      ]
    },
    {
      "cell_type": "code",
      "execution_count": 1,
      "metadata": {
        "id": "BCggNE7NpiQN"
      },
      "outputs": [],
      "source": [
        "# DO NOT CHANGE\n",
        "\n",
        "import numpy as np\n",
        "\n",
        "class BanditProblem(object):\n",
        "    def __init__(self, seed):\n",
        "        self.seed = seed\n",
        "        self.rng = np.random.default_rng(seed)\n",
        "\n",
        "        self.num_arms = 3\n",
        "        self.ns = self.rng.integers(low=1, high=10, size=self.num_arms)\n",
        "        self.ps = self.rng.uniform(low=0.2, high=0.4, size=self.num_arms)\n",
        "\n",
        "    def get_num_arms(self):\n",
        "        return self.num_arms\n",
        "\n",
        "    def get_reward(self, arm):\n",
        "        if arm < 0 or arm >= self.num_arms:\n",
        "            raise ValueError(\"Invalid arm\")\n",
        "\n",
        "        x = self.rng.uniform()\n",
        "        x *= self.rng.binomial(self.ns[arm], self.ps[arm])\n",
        "\n",
        "        return x\n"
      ]
    },
    {
      "cell_type": "code",
      "execution_count": 2,
      "metadata": {
        "id": "X99ZQUyhpgak"
      },
      "outputs": [],
      "source": [
        "bandit0 = BanditProblem(0)"
      ]
    },
    {
      "cell_type": "code",
      "execution_count": 3,
      "metadata": {
        "id": "frDtVjt4qATJ"
      },
      "outputs": [
        {
          "data": {
            "text/plain": [
              "3"
            ]
          },
          "execution_count": 3,
          "metadata": {},
          "output_type": "execute_result"
        }
      ],
      "source": [
        "bandit0.get_num_arms()"
      ]
    },
    {
      "cell_type": "code",
      "execution_count": 4,
      "metadata": {
        "id": "sdM9Ec3HqC6h"
      },
      "outputs": [
        {
          "data": {
            "text/plain": [
              "1.8255111545554434"
            ]
          },
          "execution_count": 4,
          "metadata": {},
          "output_type": "execute_result"
        }
      ],
      "source": [
        "bandit0.get_reward(arm=0)"
      ]
    },
    {
      "cell_type": "code",
      "execution_count": 5,
      "metadata": {
        "id": "iuQ0jCr_plcZ"
      },
      "outputs": [
        {
          "data": {
            "text/html": [
              "<div>\n",
              "<style scoped>\n",
              "    .dataframe tbody tr th:only-of-type {\n",
              "        vertical-align: middle;\n",
              "    }\n",
              "\n",
              "    .dataframe tbody tr th {\n",
              "        vertical-align: top;\n",
              "    }\n",
              "\n",
              "    .dataframe thead th {\n",
              "        text-align: right;\n",
              "    }\n",
              "</style>\n",
              "<table border=\"1\" class=\"dataframe\">\n",
              "  <thead>\n",
              "    <tr style=\"text-align: right;\">\n",
              "      <th></th>\n",
              "      <th>arm</th>\n",
              "      <th>mean</th>\n",
              "      <th>std</th>\n",
              "      <th>min</th>\n",
              "      <th>max</th>\n",
              "      <th>unique_vals</th>\n",
              "      <th>is_binary</th>\n",
              "    </tr>\n",
              "  </thead>\n",
              "  <tbody>\n",
              "    <tr>\n",
              "      <th>2</th>\n",
              "      <td>2</td>\n",
              "      <td>0.891671</td>\n",
              "      <td>0.798426</td>\n",
              "      <td>0.0</td>\n",
              "      <td>4.738119</td>\n",
              "      <td>2019</td>\n",
              "      <td>0</td>\n",
              "    </tr>\n",
              "    <tr>\n",
              "      <th>0</th>\n",
              "      <td>0</td>\n",
              "      <td>0.828277</td>\n",
              "      <td>0.824816</td>\n",
              "      <td>0.0</td>\n",
              "      <td>6.782466</td>\n",
              "      <td>1978</td>\n",
              "      <td>0</td>\n",
              "    </tr>\n",
              "    <tr>\n",
              "      <th>1</th>\n",
              "      <td>1</td>\n",
              "      <td>0.629433</td>\n",
              "      <td>0.665647</td>\n",
              "      <td>0.0</td>\n",
              "      <td>3.973415</td>\n",
              "      <td>1650</td>\n",
              "      <td>0</td>\n",
              "    </tr>\n",
              "  </tbody>\n",
              "</table>\n",
              "</div>"
            ],
            "text/plain": [
              "   arm      mean       std  min       max  unique_vals  is_binary\n",
              "2    2  0.891671  0.798426  0.0  4.738119         2019          0\n",
              "0    0  0.828277  0.824816  0.0  6.782466         1978          0\n",
              "1    1  0.629433  0.665647  0.0  3.973415         1650          0"
            ]
          },
          "metadata": {},
          "output_type": "display_data"
        },
        {
          "data": {
            "image/png": "[encoded data removed]",
            "text/plain": [
              "<Figure size 1200x300 with 3 Axes>"
            ]
          },
          "metadata": {},
          "output_type": "display_data"
        },
        {
          "name": "stdout",
          "output_type": "stream",
          "text": [
            "Picked: UCB1\n",
            "Wrote algorithm-choice.txt\n"
          ]
        }
      ],
      "source": [
        "# YOUR CHANGES HERE\n",
        "\n",
        "# ==== Part 1: Explore reward distribution & pick algorithm ====\n",
        "import numpy as np\n",
        "import pandas as pd\n",
        "import matplotlib.pyplot as plt\n",
        "\n",
        "A = bandit0.get_num_arms()\n",
        "N = 5000  # number of probes per arm\n",
        "\n",
        "# sample rewards to inspect the distribution\n",
        "samples = {a: np.array([bandit0.get_reward(a) for _ in range(N)]) for a in range(A)}\n",
        "\n",
        "# summary table\n",
        "summary = []\n",
        "for a in range(A):\n",
        "    arr = samples[a]\n",
        "    # check \"binary-ness\" (rounded to 3 decimals to avoid float crumbs)\n",
        "    uniq = np.unique(np.round(arr, 3))\n",
        "    is_binary = int(np.all(np.isin(uniq, [0.0, 1.0])))\n",
        "    summary.append({\n",
        "        \"arm\": a,\n",
        "        \"mean\": arr.mean(),\n",
        "        \"std\": arr.std(ddof=1),\n",
        "        \"min\": arr.min(),\n",
        "        \"max\": arr.max(),\n",
        "        \"unique_vals\": len(uniq),\n",
        "        \"is_binary\": is_binary,\n",
        "    })\n",
        "\n",
        "summary_df = pd.DataFrame(summary).sort_values(\"mean\", ascending=False)\n",
        "display(summary_df)\n",
        "\n",
        "# histograms (one per arm)\n",
        "fig, axes = plt.subplots(1, A, figsize=(4*A, 3), constrained_layout=True)\n",
        "if A == 1: axes = [axes]\n",
        "for a, ax in enumerate(axes):\n",
        "    ax.hist(samples[a], bins=30, edgecolor=\"k\")\n",
        "    ax.set_title(f\"Arm {a}\")\n",
        "    ax.set_xlabel(\"reward\"); ax.set_ylabel(\"count\")\n",
        "plt.show()\n",
        "\n",
        "# choose algorithm based on what we saw\n",
        "# (here: rewards are NOT strictly {0,1}; they look like binomial counts + uniform jitter ⇒ sub-Gaussian/bounded)\n",
        "if int(summary_df[\"is_binary\"].all()):\n",
        "    choice = \"Thompson Sampling (Bernoulli)\"\n",
        "    why = (\n",
        "        \"Rewards appear Bernoulli; TS-Bernoulli matches the likelihood and typically achieves low regret. \"\n",
        "        \"I reject epsilon-greedy due to fixed exploration scheduling and UCB1 because a conjugate Bayesian model is available.\"\n",
        "    )\n",
        "else:\n",
        "    choice = \"UCB1\"\n",
        "    why = (\n",
        "        \"Rewards are non-binary and roughly bounded/sub-Gaussian (count-like with uniform jitter). \"\n",
        "        \"UCB1 is distribution-agnostic under sub-Gaussian tails and needs minimal tuning. \"\n",
        "        \"I reject epsilon-greedy (slower due to fixed ε schedule) and Bernoulli Thompson Sampling (model misspecification for non-binary rewards).\"\n",
        "    )\n",
        "\n",
        "# write the required file\n",
        "with open(\"algorithm-choice.txt\", \"w\", encoding=\"utf-8\") as f:\n",
        "    f.write(f\"{choice}\\n\\nJustification:\\n{why}\\n\")\n",
        "\n",
        "print(\"Picked:\", choice)\n",
        "print(\"Wrote algorithm-choice.txt\")"
      ]
    },
    {
      "cell_type": "markdown",
      "metadata": {
        "id": "s4-3KtNXtzlY"
      },
      "source": [
        "Based on your investigation, pick an appropriate bandit algorithm to implement from the algorithms covered this week.\n",
        "Write a file \"algorithm-choice.txt\" that states your choice and gives a few sentences justifying your choice and rejecting the alternatives.\n",
        "Keep your explanation concise; overly verbose responses will be penalized."
      ]
    },
    {
      "cell_type": "markdown",
      "metadata": {
        "id": "lY_xvfK4rN0C"
      },
      "source": [
        "## Part 2: Implement Bandit\n",
        "\n",
        "Based on your decision, implement an appropriate bandit algorithm and pick 1000 actions using seed 2025002."
      ]
    },
    {
      "cell_type": "code",
      "execution_count": 6,
      "metadata": {
        "id": "kufc5pAPrWTT"
      },
      "outputs": [
        {
          "name": "stdout",
          "output_type": "stream",
          "text": [
            "Strategy: ucb1\n",
            "Pull counts per arm: [602 345  53]\n",
            "Empirical means per arm: [0.5672 0.5328 0.2087]\n",
            "Total reward: 536.3094777543005\n"
          ]
        }
      ],
      "source": [
        "# YOUR CHANGES HERE\n",
        "\n",
        "# ---- Part 2: implement & run the chosen bandit (1000 actions, seed 2025002) ----\n",
        "import math, os\n",
        "import numpy as np\n",
        "\n",
        "# pick strategy based on your Part 1 file; default to UCB1 (works well for non-binary bounded rewards)\n",
        "def _read_choice(path=\"algorithm-choice.txt\"):\n",
        "    try:\n",
        "        txt = open(path, \"r\", encoding=\"utf-8\").read().lower()\n",
        "        if \"ucb\" in txt:\n",
        "            return \"ucb1\"\n",
        "        if \"epsilon\" in txt or \"eps\" in txt:\n",
        "            return \"epsilon\"\n",
        "        if \"thompson\" in txt or \"ts\" in txt:\n",
        "            return \"thompson\"\n",
        "    except FileNotFoundError:\n",
        "        pass\n",
        "    return \"ucb1\"\n",
        "\n",
        "def run_bandit(bandit, T=1000, strategy=None, eps_start=0.2, eps_min=0.01, eps_decay=0.999):\n",
        "    rng = np.random.default_rng(2025002)  # only used for tie-breaks / epsilon choices\n",
        "    K = bandit.get_num_arms()\n",
        "    counts = np.zeros(K, dtype=int)\n",
        "    values = np.zeros(K, dtype=float)  # running means\n",
        "    alpha  = np.ones(K)  # for Thompson (Beta prior)\n",
        "    beta   = np.ones(K)\n",
        "\n",
        "    actions, rewards = [], []\n",
        "    if strategy is None:\n",
        "        strategy = _read_choice()\n",
        "\n",
        "    eps = eps_start\n",
        "\n",
        "    for t in range(1, T+1):\n",
        "        # --- choose action ---\n",
        "        if strategy == \"ucb1\":\n",
        "            # pull each arm at least once\n",
        "            if (counts == 0).any():\n",
        "                a = int(np.where(counts == 0)[0][0])\n",
        "            else:\n",
        "                ucb = values + np.sqrt(2.0 * np.log(t) / counts)\n",
        "                maxv = ucb.max()\n",
        "                # break ties randomly but reproducibly\n",
        "                cand = np.where(np.isclose(ucb, maxv))[0]\n",
        "                a = int(rng.choice(cand))\n",
        "        elif strategy == \"epsilon\":\n",
        "            eps = max(eps * eps_decay, eps_min)\n",
        "            if rng.random() < eps:\n",
        "                a = int(rng.integers(0, K))\n",
        "            else:\n",
        "                maxv = values.max()\n",
        "                cand = np.where(np.isclose(values, maxv))[0]\n",
        "                a = int(rng.choice(cand))\n",
        "        elif strategy == \"thompson\":\n",
        "            # Bernoulli-style TS; if rewards aren’t strictly 0/1 this is misspecified but still workable\n",
        "            theta = rng.beta(alpha, beta)\n",
        "            maxv = theta.max()\n",
        "            cand = np.where(np.isclose(theta, maxv))[0]\n",
        "            a = int(rng.choice(cand))\n",
        "        else:\n",
        "            raise ValueError(f\"Unknown strategy: {strategy}\")\n",
        "\n",
        "        # --- observe reward & update ---\n",
        "        r = float(bandit.get_reward(a))\n",
        "        counts[a] += 1\n",
        "        values[a] += (r - values[a]) / counts[a]  # incremental mean\n",
        "\n",
        "        if strategy == \"thompson\":\n",
        "            if r >= 0.5:\n",
        "                alpha[a] += 1.0\n",
        "            else:\n",
        "                beta[a]  += 1.0\n",
        "\n",
        "        actions.append(a)\n",
        "        rewards.append(r)\n",
        "\n",
        "    return np.array(actions, dtype=int), np.array(rewards, dtype=float), {\n",
        "        \"strategy\": strategy,\n",
        "        \"counts\": counts,\n",
        "        \"means\": values\n",
        "    }\n",
        "\n",
        "# Instantiate bandit with the required seed and run\n",
        "bandit = BanditProblem(2025002)\n",
        "actions, rewards, info = run_bandit(bandit, T=1000)\n",
        "\n",
        "print(\"Strategy:\", info[\"strategy\"])\n",
        "print(\"Pull counts per arm:\", info[\"counts\"])\n",
        "print(\"Empirical means per arm:\", np.round(info[\"means\"], 4))\n",
        "print(\"Total reward:\", rewards.sum())\n"
      ]
    },
    {
      "cell_type": "markdown",
      "metadata": {
        "id": "Ho9QihatrZqy"
      },
      "source": [
        "Write a file \"history.tsv\" with columns action and reward in the order that the actions were taken."
      ]
    },
    {
      "cell_type": "code",
      "execution_count": 7,
      "metadata": {
        "id": "OsiU7S1XrX0q"
      },
      "outputs": [
        {
          "name": "stdout",
          "output_type": "stream",
          "text": [
            "Wrote history.tsv\n"
          ]
        },
        {
          "data": {
            "text/html": [
              "<div>\n",
              "<style scoped>\n",
              "    .dataframe tbody tr th:only-of-type {\n",
              "        vertical-align: middle;\n",
              "    }\n",
              "\n",
              "    .dataframe tbody tr th {\n",
              "        vertical-align: top;\n",
              "    }\n",
              "\n",
              "    .dataframe thead th {\n",
              "        text-align: right;\n",
              "    }\n",
              "</style>\n",
              "<table border=\"1\" class=\"dataframe\">\n",
              "  <thead>\n",
              "    <tr style=\"text-align: right;\">\n",
              "      <th></th>\n",
              "      <th>action</th>\n",
              "      <th>reward</th>\n",
              "    </tr>\n",
              "  </thead>\n",
              "  <tbody>\n",
              "    <tr>\n",
              "      <th>0</th>\n",
              "      <td>0</td>\n",
              "      <td>1.575207</td>\n",
              "    </tr>\n",
              "    <tr>\n",
              "      <th>1</th>\n",
              "      <td>1</td>\n",
              "      <td>0.000000</td>\n",
              "    </tr>\n",
              "    <tr>\n",
              "      <th>2</th>\n",
              "      <td>2</td>\n",
              "      <td>0.000000</td>\n",
              "    </tr>\n",
              "    <tr>\n",
              "      <th>3</th>\n",
              "      <td>0</td>\n",
              "      <td>1.804006</td>\n",
              "    </tr>\n",
              "    <tr>\n",
              "      <th>4</th>\n",
              "      <td>0</td>\n",
              "      <td>0.432083</td>\n",
              "    </tr>\n",
              "  </tbody>\n",
              "</table>\n",
              "</div>"
            ],
            "text/plain": [
              "   action    reward\n",
              "0       0  1.575207\n",
              "1       1  0.000000\n",
              "2       2  0.000000\n",
              "3       0  1.804006\n",
              "4       0  0.432083"
            ]
          },
          "metadata": {},
          "output_type": "display_data"
        }
      ],
      "source": [
        "# YOUR CHANGES HERE\n",
        "\n",
        "# ---- Part 2: write history.tsv ----\n",
        "import pandas as pd\n",
        "\n",
        "hist_df = pd.DataFrame({\"action\": actions, \"reward\": rewards})\n",
        "hist_df.to_csv(\"history.tsv\", sep=\"\\t\", index=False)\n",
        "print(\"Wrote history.tsv\")\n",
        "display(hist_df.head())\n"
      ]
    },
    {
      "cell_type": "markdown",
      "metadata": {
        "id": "fwm-1x3mrfXu"
      },
      "source": [
        "Submit \"history.tsv\" in Gradescope."
      ]
    },
    {
      "cell_type": "markdown",
      "metadata": {
        "id": "xc0xYgCzrmGj"
      },
      "source": [
        "## Part 3: Action Statistics\n",
        "\n",
        "Based on the data from part 2, estimate the expected reward for each arm and write a file \"actions.tsv\" with the columns action, min_reward, mean_reward, max_reward."
      ]
    },
    {
      "cell_type": "code",
      "execution_count": 8,
      "metadata": {
        "id": "a-uAbY03sFna"
      },
      "outputs": [
        {
          "name": "stdout",
          "output_type": "stream",
          "text": [
            "Wrote actions.tsv\n"
          ]
        },
        {
          "data": {
            "text/html": [
              "<div>\n",
              "<style scoped>\n",
              "    .dataframe tbody tr th:only-of-type {\n",
              "        vertical-align: middle;\n",
              "    }\n",
              "\n",
              "    .dataframe tbody tr th {\n",
              "        vertical-align: top;\n",
              "    }\n",
              "\n",
              "    .dataframe thead th {\n",
              "        text-align: right;\n",
              "    }\n",
              "</style>\n",
              "<table border=\"1\" class=\"dataframe\">\n",
              "  <thead>\n",
              "    <tr style=\"text-align: right;\">\n",
              "      <th></th>\n",
              "      <th>action</th>\n",
              "      <th>min_reward</th>\n",
              "      <th>mean_reward</th>\n",
              "      <th>max_reward</th>\n",
              "    </tr>\n",
              "  </thead>\n",
              "  <tbody>\n",
              "    <tr>\n",
              "      <th>0</th>\n",
              "      <td>0</td>\n",
              "      <td>0.0</td>\n",
              "      <td>0.567186</td>\n",
              "      <td>3.761461</td>\n",
              "    </tr>\n",
              "    <tr>\n",
              "      <th>1</th>\n",
              "      <td>1</td>\n",
              "      <td>0.0</td>\n",
              "      <td>0.532755</td>\n",
              "      <td>2.707422</td>\n",
              "    </tr>\n",
              "    <tr>\n",
              "      <th>2</th>\n",
              "      <td>2</td>\n",
              "      <td>0.0</td>\n",
              "      <td>0.208736</td>\n",
              "      <td>0.966617</td>\n",
              "    </tr>\n",
              "  </tbody>\n",
              "</table>\n",
              "</div>"
            ],
            "text/plain": [
              "   action  min_reward  mean_reward  max_reward\n",
              "0       0         0.0     0.567186    3.761461\n",
              "1       1         0.0     0.532755    2.707422\n",
              "2       2         0.0     0.208736    0.966617"
            ]
          },
          "metadata": {},
          "output_type": "display_data"
        }
      ],
      "source": [
        "# YOUR CHANGES HERE\n",
        "\n",
        "# ---- Part 3: per-arm stats -> actions.tsv (action, min_reward, mean_reward, max_reward) ----\n",
        "import pandas as pd\n",
        "\n",
        "# Load the action/reward log produced in Part 2\n",
        "hist = pd.read_csv(\"history.tsv\", sep=\"\\t\")  # expects columns: action, reward\n",
        "\n",
        "# Aggregate required statistics per arm\n",
        "actions = (\n",
        "    hist.groupby(\"action\", as_index=False)\n",
        "        .agg(\n",
        "            min_reward=(\"reward\", \"min\"),\n",
        "            mean_reward=(\"reward\", \"mean\"),\n",
        "            max_reward=(\"reward\", \"max\"),\n",
        "        )\n",
        "        .sort_values(\"action\")\n",
        "        .reset_index(drop=True)\n",
        ")\n",
        "\n",
        "# Write output file\n",
        "actions.to_csv(\"actions.tsv\", sep=\"\\t\", index=False)\n",
        "\n",
        "print(\"Wrote actions.tsv\")\n",
        "display(actions)\n"
      ]
    },
    {
      "cell_type": "markdown",
      "metadata": {
        "id": "kk8s1hpEsHWX"
      },
      "source": [
        "Submit \"actions.tsv\" in Gradescope."
      ]
    },
    {
      "cell_type": "markdown",
      "metadata": {
        "id": "asaIrLTtsKEv"
      },
      "source": [
        "## Part 4: Regret Estimates\n",
        "\n",
        "Calculate the expected regret taking 1000 actions with the following strategies.\n",
        "\n",
        "* uniform: Pick an arm uniformly at random.\n",
        "* just-i: Always pick arm $i$. Do this for $i=0$ to $K-1$ where $K$ is the number of arms.\n",
        "* actual: This should match your output in part 2."
      ]
    },
    {
      "cell_type": "code",
      "execution_count": 9,
      "metadata": {
        "id": "LgCSJKDmso5a"
      },
      "outputs": [
        {
          "data": {
            "text/html": [
              "<div>\n",
              "<style scoped>\n",
              "    .dataframe tbody tr th:only-of-type {\n",
              "        vertical-align: middle;\n",
              "    }\n",
              "\n",
              "    .dataframe tbody tr th {\n",
              "        vertical-align: top;\n",
              "    }\n",
              "\n",
              "    .dataframe thead th {\n",
              "        text-align: right;\n",
              "    }\n",
              "</style>\n",
              "<table border=\"1\" class=\"dataframe\">\n",
              "  <thead>\n",
              "    <tr style=\"text-align: right;\">\n",
              "      <th></th>\n",
              "      <th>strategy</th>\n",
              "      <th>regret</th>\n",
              "    </tr>\n",
              "  </thead>\n",
              "  <tbody>\n",
              "    <tr>\n",
              "      <th>0</th>\n",
              "      <td>uniform</td>\n",
              "      <td>143.511916</td>\n",
              "    </tr>\n",
              "    <tr>\n",
              "      <th>1</th>\n",
              "      <td>just-0</td>\n",
              "      <td>5.075255</td>\n",
              "    </tr>\n",
              "    <tr>\n",
              "      <th>2</th>\n",
              "      <td>just-1</td>\n",
              "      <td>31.381875</td>\n",
              "    </tr>\n",
              "    <tr>\n",
              "      <th>3</th>\n",
              "      <td>just-2</td>\n",
              "      <td>371.096949</td>\n",
              "    </tr>\n",
              "    <tr>\n",
              "      <th>4</th>\n",
              "      <td>actual</td>\n",
              "      <td>35.559867</td>\n",
              "    </tr>\n",
              "  </tbody>\n",
              "</table>\n",
              "</div>"
            ],
            "text/plain": [
              "  strategy      regret\n",
              "0  uniform  143.511916\n",
              "1   just-0    5.075255\n",
              "2   just-1   31.381875\n",
              "3   just-2  371.096949\n",
              "4   actual   35.559867"
            ]
          },
          "metadata": {},
          "output_type": "display_data"
        }
      ],
      "source": [
        "# YOUR CHANGES HERE\n",
        "\n",
        "# ---- Part 4: compute regrets for uniform, just-i (all arms), and actual (from Part 2) ----\n",
        "import numpy as np\n",
        "import pandas as pd\n",
        "\n",
        "T = 1000\n",
        "SEED = 2025002\n",
        "\n",
        "# --- helper: estimate per-arm means and mu* by Monte Carlo on the same bandit seed ---\n",
        "def estimate_arm_means_and_mu_star(K, samples_per_arm=20000, seed=SEED):\n",
        "    b = BanditProblem(seed)\n",
        "    means = []\n",
        "    for a in range(K):\n",
        "        arr = np.array([b.get_reward(a) for _ in range(samples_per_arm)], dtype=float)\n",
        "        means.append(arr.mean())\n",
        "    means = np.array(means, dtype=float)\n",
        "    return means, float(means.max())\n",
        "\n",
        "# --- helper: simulate strategies on a fresh bandit with the same seed ---\n",
        "def run_uniform(K, T, seed=SEED):\n",
        "    b = BanditProblem(seed)\n",
        "    rng = np.random.default_rng(seed)\n",
        "    actions = rng.integers(0, K, size=T)\n",
        "    rewards = np.array([b.get_reward(int(a)) for a in actions], dtype=float)\n",
        "    return actions, rewards\n",
        "\n",
        "def run_just_i(K, T, i, seed=SEED):\n",
        "    b = BanditProblem(seed)\n",
        "    actions = np.full(T, i, dtype=int)\n",
        "    rewards = np.array([b.get_reward(i) for _ in range(T)], dtype=float)\n",
        "    return actions, rewards\n",
        "\n",
        "# baseline (empirical expectation)\n",
        "K = BanditProblem(SEED).get_num_arms()\n",
        "arm_means_hat, mu_star_hat = estimate_arm_means_and_mu_star(K, samples_per_arm=20000, seed=SEED)\n",
        "\n",
        "rows = []\n",
        "\n",
        "# uniform\n",
        "_, rew_u = run_uniform(K, T, seed=SEED)\n",
        "rows.append({\"strategy\": \"uniform\", \"regret\": float(np.sum(mu_star_hat - rew_u))})\n",
        "\n",
        "# just-i for all arms\n",
        "for i in range(K):\n",
        "    _, rew_i = run_just_i(K, T, i, seed=SEED)\n",
        "    rows.append({\"strategy\": f\"just-{i}\", \"regret\": float(np.sum(mu_star_hat - rew_i))})\n",
        "\n",
        "# actual (from Part 2 history)\n",
        "hist = pd.read_csv(\"history.tsv\", sep=\"\\t\")  # expects columns: action, reward\n",
        "rew_actual = hist[\"reward\"].to_numpy()[:T]   # safety slice\n",
        "rows.append({\"strategy\": \"actual\", \"regret\": float(np.sum(mu_star_hat - rew_actual))})\n",
        "\n",
        "# keep in a DF for the next cell\n",
        "strategies_df = pd.DataFrame(rows)\n",
        "display(strategies_df)\n"
      ]
    },
    {
      "cell_type": "markdown",
      "metadata": {
        "id": "ncXs2IqPsqQO"
      },
      "source": [
        "Write your results to a file \"strategies.tsv\" with the columns strategy and regret."
      ]
    },
    {
      "cell_type": "code",
      "execution_count": 10,
      "metadata": {
        "id": "GlYK-oCUtyFm"
      },
      "outputs": [
        {
          "name": "stdout",
          "output_type": "stream",
          "text": [
            "Wrote strategies.tsv\n"
          ]
        },
        {
          "data": {
            "text/html": [
              "<div>\n",
              "<style scoped>\n",
              "    .dataframe tbody tr th:only-of-type {\n",
              "        vertical-align: middle;\n",
              "    }\n",
              "\n",
              "    .dataframe tbody tr th {\n",
              "        vertical-align: top;\n",
              "    }\n",
              "\n",
              "    .dataframe thead th {\n",
              "        text-align: right;\n",
              "    }\n",
              "</style>\n",
              "<table border=\"1\" class=\"dataframe\">\n",
              "  <thead>\n",
              "    <tr style=\"text-align: right;\">\n",
              "      <th></th>\n",
              "      <th>strategy</th>\n",
              "      <th>regret</th>\n",
              "    </tr>\n",
              "  </thead>\n",
              "  <tbody>\n",
              "    <tr>\n",
              "      <th>0</th>\n",
              "      <td>uniform</td>\n",
              "      <td>143.511916</td>\n",
              "    </tr>\n",
              "    <tr>\n",
              "      <th>1</th>\n",
              "      <td>just-0</td>\n",
              "      <td>5.075255</td>\n",
              "    </tr>\n",
              "    <tr>\n",
              "      <th>2</th>\n",
              "      <td>just-1</td>\n",
              "      <td>31.381875</td>\n",
              "    </tr>\n",
              "    <tr>\n",
              "      <th>3</th>\n",
              "      <td>just-2</td>\n",
              "      <td>371.096949</td>\n",
              "    </tr>\n",
              "    <tr>\n",
              "      <th>4</th>\n",
              "      <td>actual</td>\n",
              "      <td>35.559867</td>\n",
              "    </tr>\n",
              "  </tbody>\n",
              "</table>\n",
              "</div>"
            ],
            "text/plain": [
              "  strategy      regret\n",
              "0  uniform  143.511916\n",
              "1   just-0    5.075255\n",
              "2   just-1   31.381875\n",
              "3   just-2  371.096949\n",
              "4   actual   35.559867"
            ]
          },
          "metadata": {},
          "output_type": "display_data"
        }
      ],
      "source": [
        "# YOUR CHANGES HERE\n",
        "\n",
        "# ---- Part 4: write strategies.tsv (strategy, regret) ----\n",
        "strategies_df.to_csv(\"strategies.tsv\", sep=\"\\t\", index=False)\n",
        "print(\"Wrote strategies.tsv\")\n",
        "display(strategies_df)\n"
      ]
    },
    {
      "cell_type": "markdown",
      "metadata": {
        "id": "bNs9BJCvtz2N"
      },
      "source": [
        "Submit \"strategies.tsv\" in Gradescope."
      ]
    },
    {
      "cell_type": "markdown",
      "metadata": {
        "id": "lopxdy3lsysb"
      },
      "source": [
        "## Part 5: Acknowledgments\n",
        "\n",
        "Make a file \"acknowledgments.txt\" documenting any outside sources or help on this project.\n",
        "If you discussed this assignment with anyone, please acknowledge them here.\n",
        "If you used any libraries not mentioned in this module's content, please list them with a brief explanation what you used them for.\n",
        "If you used any generative AI tools, please add links to your transcripts below, and any other information that you feel is necessary to comply with the generative AI policy.\n",
        "If no acknowledgements are appropriate, just write none in the file.\n"
      ]
    },
    {
      "cell_type": "code",
      "execution_count": 11,
      "metadata": {},
      "outputs": [
        {
          "name": "stdout",
          "output_type": "stream",
          "text": [
            "Wrote acknowledgments.txt\n"
          ]
        }
      ],
      "source": [
        "ack = \"\"\"I used ChatGPT (GPT-5 Thinking) as a study assistant for this assignment. The tool helped me:\n",
        "- Part 1: explore reward distributions, visualize histograms, and draft a concise algorithm choice.\n",
        "- Part 2: implement/parameterize UCB1, Thompson Sampling (Bernoulli), and ε-greedy; run 1,000 pulls with the required seed; and log history.tsv.\n",
        "- Part 3: aggregate per-arm statistics (min/mean/max) and write actions.tsv.\n",
        "- Part 4: compute pseudo-regret for the uniform, just-i, and actual strategies and write strategies.tsv.\n",
        "\n",
        "All code was reviewed, executed, and validated by me; I take full responsibility for the final submission.\n",
        "\n",
        "\n",
        "Additional libraries used:\n",
        "- numpy (arrays, RNG), pandas (TSV I/O and groupby), matplotlib (diagnostic histograms in Part 1).\n",
        "No other external libraries beyond the module requirements were used.\n",
        "\n",
        "People acknowledged:\n",
        "- None.\n",
        "\"\"\"\n",
        "with open(\"acknowledgments.txt\",\"w\",encoding=\"utf-8\") as f:\n",
        "    f.write(ack)\n",
        "print(\"Wrote acknowledgments.txt\")\n"
      ]
    },
    {
      "cell_type": "markdown",
      "metadata": {
        "id": "H8-GaDpOw06W"
      },
      "source": [
        "Submit \"acknowledgments.txt\" in Gradescope."
      ]
    },
    {
      "cell_type": "markdown",
      "metadata": {
        "id": "_AR_XyZi8N_Q"
      },
      "source": [
        "## Part 6: Code\n",
        "\n",
        "Please submit a Jupyter notebook that can reproduce all your calculations and recreate the previously submitted files."
      ]
    },
    {
      "cell_type": "markdown",
      "metadata": {
        "id": "oXhGo_008M-b"
      },
      "source": [
        "Submit \"project.ipynb\" in Gradescope."
      ]
    }
  ],
  "metadata": {
    "colab": {
      "toc_visible": false
    },
    "kernelspec": {
      "display_name": "Python 3",
      "name": "python3"
    },
    "language_info": {
      "codemirror_mode": {
        "name": "ipython",
        "version": 3
      },
      "file_extension": ".py",
      "mimetype": "text/x-python",
      "name": "python",
      "nbconvert_exporter": "python",
      "pygments_lexer": "ipython3",
      "version": "3.12.1"
    }
  },
  "nbformat": 4,
  "nbformat_minor": 0
}
